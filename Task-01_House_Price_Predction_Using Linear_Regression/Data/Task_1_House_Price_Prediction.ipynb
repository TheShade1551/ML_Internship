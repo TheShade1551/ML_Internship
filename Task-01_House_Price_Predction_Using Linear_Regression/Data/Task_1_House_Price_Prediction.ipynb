{
 "cells": [
  {
   "cell_type": "markdown",
   "metadata": {
    "id": "LoIz_9Pwho2J"
   },
   "source": [
    "# House Price Prediction using Linear Regression\n",
    "\n",
    "`Author:` [Sagar Kanekar](https://github.com/TheShade1551)\\\n",
    "`Date:` 10.December.2024\\\n",
    "`Dataset:`[AMES Housing Dataset](https://www.kaggle.com/c/house-prices-advanced-regression-techniques/data)\n"
   ]
  },
  {
   "cell_type": "markdown",
   "metadata": {
    "id": "VxAglD6VlIQB"
   },
   "source": [
    "### About Dataset(Meta Data)\n",
    "\n",
    "#### Context:-\n",
    "- Following Dataset is a Multivariate Dataset of Collection of Different Houses & their Detailed Descriptions with the Price at Which they were sold.\n",
    "- This Dataset Contains 79 Attributes (Categorical & Numerical) which provide Diverse Information to Predict the Target Variable i.e. Selling Price of the Respective House.\n",
    "\n",
    "#### Content:-\n",
    "- The 79 Attributes in this dataset can be classified as:-\n",
    "  1. **Zone Attributes**:- Focusing on the Location of Property in context of Surroundings.\n",
    "  2. **Lot Configurations**:- Regarding Properties of the Lot Specifications.\n",
    "  3. **House Floors**:- Data about Floorwise Informations(Basement, 1st & 2nd Floor)\n",
    "  4. **Amenities**:- About Different Aspects of House other than Living Area viz. Fireplaces, Garage, Pool, Porches,\n",
    "  5. **Rooms**:- Information about Living Rooms, Bathrooms & Kitchens within House.\n",
    "  6. **Selling Data**:- Selling Details, eg. Month, Year, Type of Deal. etc.\n",
    "\n",
    "### Acknowledgements:-\n",
    "- The Ames Housing dataset was compiled by Dean De Cock for use in data science education.\n",
    "- It Provides a Modernized and Expanded version of the often cited Boston Housing dataset.\n",
    "- The Dataset is Made Available by Kaggle through Open Competition.\n",
    "\n",
    "### Citation:-\n",
    "- [Anna Montoya and DataCanary. House Prices - Advanced Regression Techniques.](www.kaggle.com/competitions/house-prices-advanced-regression-techniques/overview/$citation)\n",
    "\n",
    "---\n",
    "### Problem Statement:-\n",
    "- To Implement a Linear Regression Model to Predict the Prices of Houses based on the following:-\n",
    "  1. Square Footage of House\n",
    "  2. Number of Bedrooms & Bathrooms\n",
    "\n",
    "### Procedure:-\n",
    "- To Get the Designated Features within a Dataframe\n",
    "- Exploratory Data Analysis\n",
    "- Handling Missing Values\n",
    "- Scaling Data(Wherever Necessary)\n",
    "- Combining Data into 3 Features\n",
    "  1. Total_Living_Area:- Footage of All Living Area Combined.(All the Floors)\n",
    "  2. Total_Square_Footage:- Total Area = Living Area + Amenities Area\n",
    "  3. Rooms:- Total Number of Bedrooms & Bathrooms(considering appropriate weights)\n",
    "- Multivariate Linear Regression\n",
    "  1. With Total_Living_Area & Rooms Features\n",
    "  2. With Total_Square_Footage & Rooms Features\n",
    "  3. With Plot Area & Rooms Features\n",
    "- Measuring Accuracy using Evaluation Metrics\n",
    "\n",
    "\n",
    "\n",
    "\n"
   ]
  },
  {
   "cell_type": "markdown",
   "metadata": {
    "id": "LNWJchoL5M7U"
   },
   "source": [
    "# `Import Libraries`"
   ]
  },
  {
   "cell_type": "code",
   "execution_count": null,
   "metadata": {
    "id": "xyOffd5q5WwT"
   },
   "outputs": [],
   "source": [
    "# Importing Libraries\n",
    "\n",
    "# Data Manipulation & Analysis.\n",
    "import pandas as pd\n",
    "import numpy as np\n",
    "\n",
    "# Data Visulization\n",
    "import matplotlib.pyplot as plt\n",
    "import seaborn as sns\n",
    "\n",
    "# Machine Learning Models & Utilities\n",
    "from sklearn.model_selection import train_test_split\n",
    "from sklearn.linear_model import LinearRegression\n",
    "from sklearn.metrics import root_mean_squared_error, r2_score\n",
    "from sklearn.preprocessing import MinMaxScaler\n",
    "\n",
    "# Handling Unnecessary Warnings\n",
    "import warnings\n",
    "warnings.filterwarnings('ignore')"
   ]
  },
  {
   "cell_type": "markdown",
   "metadata": {
    "id": "oWE_72GY-I9-"
   },
   "source": [
    "#`Load Dataset`"
   ]
  },
  {
   "cell_type": "code",
   "execution_count": null,
   "metadata": {
    "id": "ZMFSWUCx-X_e"
   },
   "outputs": [],
   "source": [
    "#Loading Dataset\n",
    "df = pd.read_csv('AMES Housing Dataset.csv')"
   ]
  },
  {
   "cell_type": "code",
   "execution_count": null,
   "metadata": {
    "colab": {
     "base_uri": "https://localhost:8080/"
    },
    "id": "VLOlNAVqB1Y6",
    "outputId": "a77825bf-6fad-4e0c-daa5-66a3b9cbdb09"
   },
   "outputs": [],
   "source": [
    "#Understanding Features:- Data types & Non-Null Counts\n",
    "df.info()"
   ]
  },
  {
   "cell_type": "code",
   "execution_count": null,
   "metadata": {
    "colab": {
     "base_uri": "https://localhost:8080/"
    },
    "id": "bv_MasVXDgfI",
    "outputId": "e19a4826-76cb-4896-ed53-6e8d4491bbaf"
   },
   "outputs": [],
   "source": [
    "df.shape"
   ]
  },
  {
   "cell_type": "markdown",
   "metadata": {
    "id": "5SM_tWzmDpzr"
   },
   "source": [
    "#### Shortlisting Features\n",
    "As We Undergo the Regression Task, We Can Only Consider the Numerical Features within the Dataset.\n",
    "- **Living Area Features**:- `TotalBsmtSF`,`1stFlrSF`,`2ndFlrSF`\n",
    "- (not considering `GrLivArea` as it only provides the living area above ground, which is already mentioned through `1stFlrSF` & `2ndFlrSF`)\n",
    "- **Amenities**:- `GarageArea`, `WoodDeckSF`, `OpenPorchSF`, `EnclosedPorch`, `3SsnPorch`, `ScreenPorch`, `PoolArea`\n",
    "- **Rooms**:- `BsmtFullBath`, `BsmtHalfBath`, `FullBath`, `HalfBath`, `BedroomAbvGr`\n",
    "- **Lot-Area**:- `LotArea` gives the total Lot Area of the House-Plot\n",
    "- **Selling-Price**:-`SalePrice`, the Target Variable.\n",
    "\n",
    "Hence, Shortlisting these 17 Features within a new Dataframe.\n"
   ]
  },
  {
   "cell_type": "code",
   "execution_count": null,
   "metadata": {
    "id": "Fhf0B9K2iTIn"
   },
   "outputs": [],
   "source": [
    "# Creating New Dataframe with Selected Features\n",
    "Data = df[['TotalBsmtSF','1stFlrSF','2ndFlrSF','GarageArea','WoodDeckSF','OpenPorchSF','EnclosedPorch','3SsnPorch','ScreenPorch','PoolArea','BsmtFullBath','BsmtHalfBath','FullBath','HalfBath','BedroomAbvGr','LotArea','SalePrice']]"
   ]
  },
  {
   "cell_type": "code",
   "execution_count": null,
   "metadata": {
    "colab": {
     "base_uri": "https://localhost:8080/",
     "height": 383
    },
    "id": "vwvY8V9IkiBw",
    "outputId": "3465932c-b581-427a-cbc6-ccd5a9ea571d"
   },
   "outputs": [],
   "source": [
    "Data.sample(10)"
   ]
  },
  {
   "cell_type": "markdown",
   "metadata": {
    "id": "rG4qD1CmlWr1"
   },
   "source": [
    "#### Concatenating Features\n",
    "- Concatenating Living Area Features:- `TotalBsmtSF`,`1stFlrSF`,`2ndFlrSF`\n",
    "- Concatenating All Porch-Area Features into one (as Most Houses have only 1 type of Porch out of given 4)"
   ]
  },
  {
   "cell_type": "code",
   "execution_count": null,
   "metadata": {
    "id": "6qH1g2KumGaF"
   },
   "outputs": [],
   "source": [
    "#Creating Feature:- LivingArea\n",
    "Data['LivingArea'] = Data[['TotalBsmtSF','1stFlrSF','2ndFlrSF']].sum(axis=1)\n",
    "#Creating Feature:- PorchArea\n",
    "Data['PorchArea'] = Data[['OpenPorchSF','EnclosedPorch','3SsnPorch','ScreenPorch']].sum(axis=1)\n",
    "\n",
    "#Dropping Already Concatenated Features\n",
    "Data.drop(['TotalBsmtSF','1stFlrSF','2ndFlrSF','OpenPorchSF','EnclosedPorch','3SsnPorch','ScreenPorch'],axis=1, inplace=True)"
   ]
  },
  {
   "cell_type": "code",
   "execution_count": null,
   "metadata": {
    "colab": {
     "base_uri": "https://localhost:8080/",
     "height": 206
    },
    "id": "CyDje9Nzwh2F",
    "outputId": "739f2118-9de3-45d5-f52b-1067956c77df"
   },
   "outputs": [],
   "source": [
    "Data.head()"
   ]
  },
  {
   "cell_type": "code",
   "execution_count": null,
   "metadata": {
    "colab": {
     "base_uri": "https://localhost:8080/"
    },
    "id": "Unx1rYO9wH9F",
    "outputId": "4ed549a8-49fc-44d3-c719-218e31c1ec7e"
   },
   "outputs": [],
   "source": [
    "Data.shape"
   ]
  },
  {
   "cell_type": "code",
   "execution_count": null,
   "metadata": {
    "colab": {
     "base_uri": "https://localhost:8080/"
    },
    "id": "6tfC4g2Vsfc4",
    "outputId": "beda99c8-ea6d-4bb7-cfff-97b964cf76ed"
   },
   "outputs": [],
   "source": [
    "#Checking Null Values\n",
    "[np.count_nonzero(Data[x]) for x in Data.columns]"
   ]
  },
  {
   "cell_type": "markdown",
   "metadata": {
    "id": "x07MWwUMw7kx"
   },
   "source": [
    "Analysis from Null Values:- Very Less Non-Zero Cells in Features `PoolArea` & `BsmtHalfBath`.\n",
    "But We'll Keep them because we are concatenating features yet again."
   ]
  },
  {
   "cell_type": "markdown",
   "metadata": {
    "id": "ZblkNtc0rXpX"
   },
   "source": [
    "#### Concatenating Features - Part-2\n",
    "- Concatenating Rooms Feature:- `BsmtFullBath`,`BsmtHalfBath`,`FullBath`,`HalfBath`,`BedroomAbvGr` with half rooms as half weights.\n",
    "- Concatenating Amenities Feature:- `GarageArea`,`WoodDeckSF`,`PoolArea`,`PorchArea`\n"
   ]
  },
  {
   "cell_type": "code",
   "execution_count": null,
   "metadata": {
    "colab": {
     "base_uri": "https://localhost:8080/"
    },
    "id": "3tat290sx6en",
    "outputId": "bde1785c-9738-4526-8659-7e8819b6796e"
   },
   "outputs": [],
   "source": [
    "#Changing Column Datatypes to Float for Weight-wise Room addition\n",
    "Data = Data.astype({'BsmtFullBath':'float','BsmtHalfBath':'float','FullBath':'float','HalfBath':'float','BedroomAbvGr':'float'})\n",
    "print(Data.dtypes)"
   ]
  },
  {
   "cell_type": "code",
   "execution_count": null,
   "metadata": {
    "colab": {
     "base_uri": "https://localhost:8080/",
     "height": 206
    },
    "id": "nBdPvV6d0S56",
    "outputId": "49872651-e90e-4bfd-d290-dfc679a9e0c8"
   },
   "outputs": [],
   "source": [
    "#Creating Feature:- Rooms\n",
    "Data['BsmtHalfBath'] = Data['BsmtHalfBath']*0.5\n",
    "Data['HalfBath'] = Data ['HalfBath']*0.5\n",
    "Data.head()"
   ]
  },
  {
   "cell_type": "code",
   "execution_count": null,
   "metadata": {
    "colab": {
     "base_uri": "https://localhost:8080/",
     "height": 206
    },
    "id": "MSP7a61V1i7e",
    "outputId": "be0c4c4c-bed0-4b21-ec09-6358e92831be"
   },
   "outputs": [],
   "source": [
    "Data['Rooms']= Data[['BsmtFullBath','BsmtHalfBath','FullBath','HalfBath','BedroomAbvGr']].sum(axis=1)\n",
    "Data.drop(['BsmtFullBath','BsmtHalfBath','FullBath','HalfBath','BedroomAbvGr'],axis=1, inplace=True)\n",
    "Data.head()"
   ]
  },
  {
   "cell_type": "code",
   "execution_count": null,
   "metadata": {
    "id": "uqgMjxCU2POA"
   },
   "outputs": [],
   "source": [
    "#Creating Feature:- Amenities\n",
    "Data['Amenities']= Data[['GarageArea','WoodDeckSF','PoolArea','PorchArea']].sum(axis=1)\n",
    "Data.drop(['GarageArea','WoodDeckSF','PoolArea','PorchArea'],axis=1, inplace=True)"
   ]
  },
  {
   "cell_type": "code",
   "execution_count": null,
   "metadata": {
    "colab": {
     "base_uri": "https://localhost:8080/",
     "height": 206
    },
    "id": "zrun1aFI3Id2",
    "outputId": "fc0d19ff-c443-44aa-c66e-e6720ef34d65"
   },
   "outputs": [],
   "source": [
    "Data.head()"
   ]
  },
  {
   "cell_type": "code",
   "execution_count": null,
   "metadata": {
    "colab": {
     "base_uri": "https://localhost:8080/",
     "height": 206
    },
    "id": "nqQHWluv3U6i",
    "outputId": "47e073b8-80b1-4d40-8713-1675bcbffede"
   },
   "outputs": [],
   "source": [
    "#Reordering the Columns\n",
    "Data= Data.iloc[:, [0,2,4,3,1]]\n",
    "Data.head()"
   ]
  },
  {
   "cell_type": "code",
   "execution_count": null,
   "metadata": {
    "colab": {
     "base_uri": "https://localhost:8080/"
    },
    "id": "dFaNjb0R5POY",
    "outputId": "e93bdd35-156c-42d1-c59e-998862c27eff"
   },
   "outputs": [],
   "source": [
    "#Checking Null Values Again\n",
    "[np.count_nonzero(Data[x]) for x in Data.columns]"
   ]
  },
  {
   "cell_type": "markdown",
   "metadata": {
    "id": "JGnQrBpu5So3"
   },
   "source": [
    "Analysis of Null Values:- Null Values have been Sufficiently Handled."
   ]
  },
  {
   "cell_type": "markdown",
   "metadata": {
    "id": "zA_aVdOUe8Nm"
   },
   "source": [
    "# `Exploratory Data Analysis`"
   ]
  },
  {
   "cell_type": "code",
   "execution_count": null,
   "metadata": {
    "colab": {
     "base_uri": "https://localhost:8080/",
     "height": 352
    },
    "id": "TKvGzTXHfJkI",
    "outputId": "1d291be4-cc22-4913-8bac-794ae8ef3256"
   },
   "outputs": [],
   "source": [
    "#Analysis of Lot Area\n",
    "print('Lot-Area Summary Statistics:')\n",
    "Data['LotArea'].describe()"
   ]
  },
  {
   "cell_type": "code",
   "execution_count": null,
   "metadata": {
    "colab": {
     "base_uri": "https://localhost:8080/"
    },
    "id": "p_2tcdNmrJMe",
    "outputId": "a9e5afaa-fa3b-4f31-82fe-29923efe34bc"
   },
   "outputs": [],
   "source": [
    "Data['LotArea'].min(),Data['LotArea'].max()"
   ]
  },
  {
   "cell_type": "code",
   "execution_count": null,
   "metadata": {
    "colab": {
     "base_uri": "https://localhost:8080/",
     "height": 472
    },
    "id": "MZ1z1kfKrRrt",
    "outputId": "a622318f-1226-4444-9d2c-efeb18ae5afb"
   },
   "outputs": [],
   "source": [
    "sns.histplot(Data['LotArea'],kde=True, bins=30,color='blue')\n",
    "plt.title('Distribution of Lot Area')\n",
    "plt.xlabel('Lot Area')\n",
    "plt.ylabel('Frequency')\n",
    "plt.show()"
   ]
  },
  {
   "cell_type": "markdown",
   "metadata": {
    "id": "8qs1Wuljrl7H"
   },
   "source": [
    "Analysis of Lot-Area:- Highly Left Skewed, Needs Outlier Handling"
   ]
  },
  {
   "cell_type": "code",
   "execution_count": null,
   "metadata": {
    "colab": {
     "base_uri": "https://localhost:8080/",
     "height": 352
    },
    "id": "LRI12uVrr1mB",
    "outputId": "12f4e12b-551d-4e12-9461-1b543aec71dd"
   },
   "outputs": [],
   "source": [
    "#Analysis of Living Area\n",
    "print('Living Area Summary Statistics:')\n",
    "Data['LivingArea'].describe()"
   ]
  },
  {
   "cell_type": "code",
   "execution_count": null,
   "metadata": {
    "colab": {
     "base_uri": "https://localhost:8080/",
     "height": 472
    },
    "id": "fZctOyALsHfQ",
    "outputId": "edb2f4d6-e2d3-4857-9e32-88e7f1b4be47"
   },
   "outputs": [],
   "source": [
    "sns.histplot(Data['LivingArea'],kde=True,bins=30,color='red')\n",
    "plt.title('Distribution of Living Area')\n",
    "plt.xlabel('Living Area')\n",
    "plt.ylabel('Frequency')\n",
    "plt.show()"
   ]
  },
  {
   "cell_type": "markdown",
   "metadata": {
    "id": "-DZZ0QyZs9ib"
   },
   "source": [
    "Analysis of Living Area:- Comparitively Normal, Needs a bit of Right Outlier Handling"
   ]
  },
  {
   "cell_type": "code",
   "execution_count": null,
   "metadata": {
    "colab": {
     "base_uri": "https://localhost:8080/"
    },
    "id": "mhk8nwyks--N",
    "outputId": "28d0b777-b1d6-417a-9729-cd21edf94a85"
   },
   "outputs": [],
   "source": [
    "#Analysing Amenities\n",
    "Data['Amenities'].min(),Data['Amenities'].max()"
   ]
  },
  {
   "cell_type": "code",
   "execution_count": null,
   "metadata": {
    "colab": {
     "base_uri": "https://localhost:8080/",
     "height": 472
    },
    "id": "qa_hkBM8t3In",
    "outputId": "22ca929b-20a3-4914-d273-0a8f1b9832c1"
   },
   "outputs": [],
   "source": [
    "sns.histplot(Data['Amenities'],kde=True,bins=30,color='green')\n",
    "plt.title('Distribution of Amenities')\n",
    "plt.xlabel('Amenities')\n",
    "plt.ylabel('Frequency')\n",
    "plt.show()"
   ]
  },
  {
   "cell_type": "markdown",
   "metadata": {
    "id": "mfHJeFHwuEpM"
   },
   "source": [
    "Analysis of Amenities:- Fairly Normally Distributed.. Needs a bit of Outlier Handling"
   ]
  },
  {
   "cell_type": "code",
   "execution_count": null,
   "metadata": {
    "colab": {
     "base_uri": "https://localhost:8080/",
     "height": 472
    },
    "id": "2YZj34VguMxg",
    "outputId": "744162b8-933a-4833-d495-ff95aca25a99"
   },
   "outputs": [],
   "source": [
    "#Analysing Rooms:-\n",
    "sns.histplot(Data['Rooms'],kde=True, bins=30,color='orange')\n",
    "plt.title('Distribution of Rooms')\n",
    "plt.xlabel('Rooms')\n",
    "plt.ylabel('Frequency')\n",
    "plt.show()"
   ]
  },
  {
   "cell_type": "markdown",
   "metadata": {
    "id": "UrJdZyVUuieF"
   },
   "source": [
    "Analysis of Rooms:- Discrete Data, but has central Tendency. No Need of Handling.`"
   ]
  },
  {
   "cell_type": "markdown",
   "metadata": {
    "id": "wXUhrawzuuzA"
   },
   "source": [
    "Overall EDA Analysis:-\n",
    "- Outlier Handling Required in Features `LotArea`,`LivingArea` & `Amenities`"
   ]
  },
  {
   "cell_type": "markdown",
   "metadata": {
    "id": "sP-_ZIvPu9Fw"
   },
   "source": [
    "# `Outlier Handling`"
   ]
  },
  {
   "cell_type": "code",
   "execution_count": null,
   "metadata": {
    "colab": {
     "base_uri": "https://localhost:8080/",
     "height": 1000
    },
    "id": "Z716_atLvDqk",
    "outputId": "30ef0bc7-b96e-4522-ac89-b53fe7f4ad7f"
   },
   "outputs": [],
   "source": [
    "#List of Numerical Columns\n",
    "num_cols = ['LotArea','LivingArea','Amenities']\n",
    "for col in num_cols:\n",
    "  # Calculating Q1, Q3 & IQR\n",
    "  Q1 = Data[col].quantile(0.25)\n",
    "  Q3 = Data[col].quantile(0.75)\n",
    "  IQR = Q3 - Q1\n",
    "  lower_bound = Q1 - 1.5*IQR\n",
    "  upper_bound = Q3 + 1.5*IQR\n",
    "\n",
    "  # identify Outliers\n",
    "  Outliers = Data[(Data[col]< lower_bound) | (Data[col]> upper_bound)]\n",
    "  print(f\"Column: {col}\")\n",
    "  print(f\"Number of Outliers: {Outliers.shape[0]}\")\n",
    "\n",
    "  # Visulaisation\n",
    "  sns.boxplot(x=Data[col],color='orange')\n",
    "  plt.title(f'Boxplot of {col}')\n",
    "  plt.xlabel(col)\n",
    "  plt.show()\n",
    "\n",
    "  # Handle Outliers: Remove Rows with Outliers\n",
    "  Data = Data[(Data[col] >= lower_bound) & (Data[col] <= upper_bound)]\n",
    "  print(f\"After Handling Outliers, Shape of Data: {Data.shape}\")\n",
    "  print(\"\\n\")"
   ]
  },
  {
   "cell_type": "code",
   "execution_count": null,
   "metadata": {
    "colab": {
     "base_uri": "https://localhost:8080/",
     "height": 426
    },
    "id": "7ONZyV1SxwtN",
    "outputId": "d9779812-ff1c-4d4a-ced4-0c1b5ae273e9"
   },
   "outputs": [],
   "source": [
    "fig,axs= plt.subplots(1,3,figsize=(15,5))\n",
    "\n",
    "sns.histplot(Data['LotArea'],kde=True, bins=30,color='blue', ax=axs[0])\n",
    "axs[0].set_title('Distribution of Lot Area')\n",
    "axs[0].set_xlabel('Lot Area')\n",
    "axs[0].set_ylabel('Frequency')\n",
    "\n",
    "sns.histplot(Data['LivingArea'],kde=True,bins=30,color='red', ax=axs[1])\n",
    "axs[1].set_title('Distribution of Living Area')\n",
    "axs[1].set_xlabel('Living Area')\n",
    "axs[1].set_ylabel('Frequency')\n",
    "\n",
    "sns.histplot(Data['Amenities'],kde=True,bins=30,color='green', ax=axs[2])\n",
    "axs[2].set_title('Distribution of Amenities')\n",
    "axs[2].set_xlabel('Amenities')\n",
    "axs[2].set_ylabel('Frequency')\n",
    "plt.tight_layout()\n",
    "plt.show()"
   ]
  },
  {
   "cell_type": "markdown",
   "metadata": {
    "id": "3zPNTiLd3xjc"
   },
   "source": [
    "Hence All 4 Features have been Normalised."
   ]
  },
  {
   "cell_type": "markdown",
   "metadata": {
    "id": "NjECI1Ko33iw"
   },
   "source": [
    "# `Linear Regression - Model Fitting`"
   ]
  },
  {
   "cell_type": "markdown",
   "metadata": {
    "id": "wfC30OFu5185"
   },
   "source": [
    "- Train, Test Splits to be done.\n",
    "- Feature Scaling is Required to have a Equivalent weight of All Features. Hence Using Min-Max Scaling."
   ]
  },
  {
   "cell_type": "code",
   "execution_count": null,
   "metadata": {
    "id": "R8-8PVeY58Yk"
   },
   "outputs": [],
   "source": [
    "# Splitting Training Data => Train, Test\n",
    "\n",
    "X = Data.drop('SalePrice', axis=1)\n",
    "y = Data['SalePrice']\n",
    "\n",
    "X_train,X_test,y_train,y_test = train_test_split(X ,y,test_size=0.33,random_state=42)"
   ]
  },
  {
   "cell_type": "code",
   "execution_count": null,
   "metadata": {
    "id": "YX-G4h93-N4U"
   },
   "outputs": [],
   "source": [
    "# Feature Scaling\n",
    "\n",
    "# Intialise the Scaler\n",
    "scaler = MinMaxScaler()\n",
    "\n",
    "# fit & transform the data\n",
    "X_train_sc = scaler.fit_transform(X_train)\n",
    "X_test_sc = scaler.transform(X_test)"
   ]
  },
  {
   "cell_type": "code",
   "execution_count": null,
   "metadata": {
    "colab": {
     "base_uri": "https://localhost:8080/",
     "height": 80
    },
    "id": "V4bamMCu_bk_",
    "outputId": "54006f40-bb52-4fab-95d2-81a0c60f12c8"
   },
   "outputs": [],
   "source": [
    "# Fitting Linear Regression Model\n",
    "model = LinearRegression()\n",
    "model.fit(X_train_sc, y_train)"
   ]
  },
  {
   "cell_type": "markdown",
   "metadata": {
    "id": "GMtkxf6c_zE-"
   },
   "source": [
    "# `Evaluation`"
   ]
  },
  {
   "cell_type": "code",
   "execution_count": null,
   "metadata": {
    "id": "MFcx38nP_1rj"
   },
   "outputs": [],
   "source": [
    "y_pred = model.predict(X_test_sc)"
   ]
  },
  {
   "cell_type": "code",
   "execution_count": null,
   "metadata": {
    "colab": {
     "base_uri": "https://localhost:8080/",
     "height": 472
    },
    "id": "PlamGeTWAkWQ",
    "outputId": "c2631235-e936-4c22-9e71-1327fabdc89f"
   },
   "outputs": [],
   "source": [
    "# Plotting the Best-Fit Line\n",
    "plt.scatter(y_test,y_pred, alpha=0.5)\n",
    "plt.xlabel('Actual Prices')\n",
    "plt.ylabel('Predicted Prices')\n",
    "plt.title('Actual vs Predicted Prices')\n",
    "\n",
    "plt.plot(y_test,y_test,color='red',linewidth=2, label='Best-Fit Line')\n",
    "plt.legend()\n",
    "plt.show()"
   ]
  },
  {
   "cell_type": "code",
   "execution_count": null,
   "metadata": {
    "colab": {
     "base_uri": "https://localhost:8080/"
    },
    "id": "iRM0XHq-CKqh",
    "outputId": "c6c05619-3bae-4e19-bc28-39d18bea48f3"
   },
   "outputs": [],
   "source": [
    "# Evaluation Metrics\n",
    "rmse = root_mean_squared_error(y_test, y_pred)\n",
    "r2 = r2_score(y_test, y_pred)\n",
    "\n",
    "print(f\"Root Mean Squared Error: {rmse}\")\n",
    "print(f\"R-squared: {r2}\")"
   ]
  },
  {
   "cell_type": "markdown",
   "metadata": {
    "id": "FdVsZ4YKC0Eb"
   },
   "source": [
    "# `Conclusion`"
   ]
  },
  {
   "cell_type": "markdown",
   "metadata": {
    "id": "Fn0blH7YC4zV"
   },
   "source": [
    "### Model Evaluation:-\n",
    "`RMSE:- 33637.91`\n",
    "- This Indicates that Data Points are Dispersed Widely Around the Mean Value.\n",
    "\n",
    "`R-Squared:- 0.74`\n",
    "- R-squared value above 0.70 or 0.80 is considered good, indicating that a large proportion of the variance in the Feature `SalePrice` is explained by the\n",
    "Processed Features `LotArea`,`LivingArea`,`Amenities`& `Rooms` in the regression model.\n",
    "\n",
    "### Conclusion\n",
    "- Linear Regression Model was Successfully fit on `AMES Housing Dataset` to Predict the `Selling Price` of Houses using `Square Footage` & `Number of Bedrooms & Bathrooms`."
   ]
  }
 ],
 "metadata": {
  "colab": {
   "provenance": []
  },
  "kernelspec": {
   "display_name": "Python 3",
   "name": "python3"
  },
  "language_info": {
   "name": "python",
   "version": "3.12.8"
  }
 },
 "nbformat": 4,
 "nbformat_minor": 0
}

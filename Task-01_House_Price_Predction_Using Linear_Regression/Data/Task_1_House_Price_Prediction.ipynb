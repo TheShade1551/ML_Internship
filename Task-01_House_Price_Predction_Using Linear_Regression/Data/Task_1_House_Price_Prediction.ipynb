{
 "cells": [
  {
   "cell_type": "markdown",
   "metadata": {
    "id": "LoIz_9Pwho2J"
   },
   "source": [
    "# House Price Prediction using Linear Regression\n",
    "\n",
    "`Author:` [Sagar Kanekar](https://github.com/TheShade1551)\\\n",
    "`Date:` 10.December.2024\\\n",
    "`Dataset:`[AMES Housing Dataset](https://www.kaggle.com/c/house-prices-advanced-regression-techniques/data)\n"
   ]
  },
  {
   "cell_type": "markdown",
   "metadata": {
    "id": "VxAglD6VlIQB"
   },
   "source": [
    "### About Dataset(Meta Data)\n",
    "\n",
    "#### Context:-\n",
    "- Following Dataset is a Multivariate Dataset of Collection of Different Houses & their Detailed Descriptions with the Price at Which they were sold.\n",
    "- This Dataset Contains 79 Attributes (Categorical & Numerical) which provide Diverse Information to Predict the Target Variable i.e. Selling Price of the Respective House.\n",
    "\n",
    "#### Content:-\n",
    "- The 79 Attributes in this dataset can be classified as:-\n",
    "  1. **Zone Attributes**:- Focusing on the Location of Property in context of Surroundings.\n",
    "  2. **Lot Configurations**:- Regarding Properties of the Lot Specifications.\n",
    "  3. **House Floors**:- Data about Floorwise Informations(Basement, 1st & 2nd Floor)\n",
    "  4. **Amenities**:- About Different Aspects of House other than Living Area viz. Fireplaces, Garage, Pool, Porches,\n",
    "  5. **Rooms**:- Information about Living Rooms, Bathrooms & Kitchens within House.\n",
    "  6. **Selling Data**:- Selling Details, eg. Month, Year, Type of Deal. etc.\n",
    "\n",
    "### Acknowledgements:-\n",
    "- The Ames Housing dataset was compiled by Dean De Cock for use in data science education.\n",
    "- It Provides a Modernized and Expanded version of the often cited Boston Housing dataset.\n",
    "- The Dataset is Made Available by Kaggle through Open Competition.\n",
    "\n",
    "### Citation:-\n",
    "- [Anna Montoya and DataCanary. House Prices - Advanced Regression Techniques.](www.kaggle.com/competitions/house-prices-advanced-regression-techniques/overview/$citation)\n",
    "\n",
    "---\n",
    "### Problem Statement:-\n",
    "- To Implement a Linear Regression Model to Predict the Prices of Houses based on the following:-\n",
    "  1. Square Footage of House\n",
    "  2. Number of Bedrooms & Bathrooms\n",
    "\n",
    "### Procedure:-\n",
    "- To Get the Designated Features within a Dataframe\n",
    "- Exploratory Data Analysis\n",
    "- Handling Missing Values\n",
    "- Scaling Data(Wherever Necessary)\n",
    "- Combining Data into 3 Features\n",
    "  1. Total_Living_Area:- Footage of All Living Area Combined.(All the Floors)\n",
    "  2. Total_Square_Footage:- Total Area = Living Area + Amenities Area\n",
    "  3. Rooms:- Total Number of Bedrooms & Bathrooms(considering appropriate weights)\n",
    "- Multivariate Linear Regression\n",
    "  1. With Total_Living_Area & Rooms Features\n",
    "  2. With Total_Square_Footage & Rooms Features\n",
    "  3. With Plot Area & Rooms Features\n",
    "- Measuring Accuracy using Evaluation Metrics\n",
    "\n",
    "\n",
    "\n",
    "\n"
   ]
  },
  {
   "cell_type": "markdown",
   "metadata": {
    "id": "LNWJchoL5M7U"
   },
   "source": [
    "# `Import Libraries`"
   ]
  },
  {
   "cell_type": "code",
   "execution_count": null,
   "metadata": {
    "id": "xyOffd5q5WwT"
   },
   "outputs": [],
   "source": [
    "# Importing Libraries\n",
    "\n",
    "# Data Manipulation & Analysis.\n",
    "import pandas as pd\n",
    "import numpy as np\n",
    "\n",
    "# Data Visulization\n",
    "import matplotlib.pyplot as plt\n",
    "import seaborn as sns\n",
    "\n",
    "# Machine Learning Models & Utilities\n",
    "from sklearn.model_selection import train_test_split\n",
    "from sklearn.linear_model import LinearRegression\n",
    "from sklearn.metrics import mean_squared_error, r2_score\n",
    "from sklearn.preprocessing import StandardScaler"
   ]
  },
  {
   "cell_type": "markdown",
   "metadata": {
    "id": "oWE_72GY-I9-"
   },
   "source": [
    "#`Load Dataset`"
   ]
  },
  {
   "cell_type": "code",
   "execution_count": null,
   "metadata": {
    "id": "ZMFSWUCx-X_e"
   },
   "outputs": [],
   "source": [
    "#Loading Dataset\n",
    "df = pd.read_csv('AMES Housing Dataset.csv')"
   ]
  },
  {
   "cell_type": "code",
   "execution_count": null,
   "metadata": {
    "colab": {
     "base_uri": "https://localhost:8080/"
    },
    "id": "VLOlNAVqB1Y6",
    "outputId": "3890d44b-cf16-4da0-8134-1c381b97451c"
   },
   "outputs": [],
   "source": [
    "#Understanding Features:- Data types & Non-Null Counts\n",
    "df.info()"
   ]
  },
  {
   "cell_type": "code",
   "execution_count": null,
   "metadata": {
    "colab": {
     "base_uri": "https://localhost:8080/"
    },
    "id": "bv_MasVXDgfI",
    "outputId": "03c93e7d-5a98-4032-e857-bedb95f04795"
   },
   "outputs": [],
   "source": [
    "df.shape"
   ]
  },
  {
   "cell_type": "markdown",
   "metadata": {
    "id": "5SM_tWzmDpzr"
   },
   "source": [
    "#### Shortlisting Features\n",
    "As We Undergo the Regression Task, We Can Only Consider the Numerical Features within the Dataset.\n",
    "- **Living Area Features**:- `TotalBsmtSF`,`1stFlrSF`,`2ndFlrSF`\n",
    "- (not considering `GrLivArea` as it only provides the living area above ground, which is already mentioned through `1stFlrSF` & `2ndFlrSF`)\n",
    "- **Amenities**:- `GarageArea`, `WoodDeckSF`, `OpenPorchSF`, `EnclosedPorch`, `3SsnPorch`, `ScreenPorch`, `PoolArea`\n",
    "- **Rooms**:- `BsmtFullBath`, `BsmtHalfBath`, `FullBath`, `HalfBath`, `BedroomAbvGr`\n",
    "- **Lot-Area**:- `LotArea` gives the total Lot Area of the House-Plot\n",
    "- **Selling-Price**:-`SalePrice`, the Target Variable.\n",
    "\n",
    "Hence, Shortlisting these 17 Features within a new Dataframe.\n"
   ]
  },
  {
   "cell_type": "code",
   "execution_count": null,
   "metadata": {
    "id": "Fhf0B9K2iTIn"
   },
   "outputs": [],
   "source": [
    "# Creating New Dataframe with Selected Features\n",
    "Data = df[['TotalBsmtSF','1stFlrSF','2ndFlrSF','GarageArea','WoodDeckSF','OpenPorchSF','EnclosedPorch','3SsnPorch','ScreenPorch','PoolArea','BsmtFullBath','BsmtHalfBath','FullBath','HalfBath','BedroomAbvGr','LotArea','SalePrice']]"
   ]
  },
  {
   "cell_type": "code",
   "execution_count": null,
   "metadata": {
    "colab": {
     "base_uri": "https://localhost:8080/",
     "height": 383
    },
    "id": "vwvY8V9IkiBw",
    "outputId": "e9eb3e02-3807-4bff-a1be-5efb696f1ce7"
   },
   "outputs": [],
   "source": [
    "Data.sample(10)"
   ]
  },
  {
   "cell_type": "markdown",
   "metadata": {
    "id": "rG4qD1CmlWr1"
   },
   "source": [
    "#### Concatenating Features\n",
    "- Concatenating Living Area Features:- `TotalBsmtSF`,`1stFlrSF`,`2ndFlrSF`\n",
    "- Concatenating All Porch-Area Features into one (as Most Houses have only 1 type of Porch out of given 4)"
   ]
  },
  {
   "cell_type": "code",
   "execution_count": null,
   "metadata": {
    "id": "6qH1g2KumGaF"
   },
   "outputs": [],
   "source": [
    "#Creating Feature:- LivingArea\n",
    "Data['LivingArea'] = Data[['TotalBsmtSF','1stFlrSF','2ndFlrSF']].sum(axis=1)\n",
    "#Creating Feature:- PorchArea\n",
    "Data['PorchArea'] = Data[['OpenPorchSF','EnclosedPorch','3SsnPorch','ScreenPorch']].sum(axis=1)\n",
    "\n",
    "#Dropping Already Concatenated Features\n",
    "Data.drop(['TotalBsmtSF','1stFlrSF','2ndFlrSF','OpenPorchSF','EnclosedPorch','3SsnPorch','ScreenPorch'],axis=1, inplace=True)"
   ]
  },
  {
   "cell_type": "code",
   "execution_count": null,
   "metadata": {
    "colab": {
     "base_uri": "https://localhost:8080/",
     "height": 206
    },
    "id": "CyDje9Nzwh2F",
    "outputId": "d5b264b8-bbbc-4982-aaa3-c22f51b41c85"
   },
   "outputs": [],
   "source": [
    "Data.head()"
   ]
  },
  {
   "cell_type": "code",
   "execution_count": null,
   "metadata": {
    "colab": {
     "base_uri": "https://localhost:8080/"
    },
    "id": "Unx1rYO9wH9F",
    "outputId": "e7d9afa5-2944-49fe-c2b4-3249636807e4"
   },
   "outputs": [],
   "source": [
    "Data.shape"
   ]
  },
  {
   "cell_type": "code",
   "execution_count": null,
   "metadata": {
    "colab": {
     "base_uri": "https://localhost:8080/"
    },
    "id": "6tfC4g2Vsfc4",
    "outputId": "4bd65e55-a739-407e-f467-29a3651167f7"
   },
   "outputs": [],
   "source": [
    "#Checking Null Values\n",
    "[np.count_nonzero(Data[x]) for x in Data.columns]"
   ]
  },
  {
   "cell_type": "markdown",
   "metadata": {
    "id": "x07MWwUMw7kx"
   },
   "source": [
    "Analysis from Null Values:- Very Less Non-Zero Cells in Features `PoolArea` & `BsmtHalfBath`.\n",
    "But We'll Keep them because we are concatenating features yet again."
   ]
  },
  {
   "cell_type": "markdown",
   "metadata": {
    "id": "ZblkNtc0rXpX"
   },
   "source": [
    "#### Concatenating Features - Part-2\n",
    "- Concatenating Rooms Feature:- `BsmtFullBath`,`BsmtHalfBath`,`FullBath`,`HalfBath`,`BedroomAbvGr` with half rooms as half weights.\n",
    "- Concatenating Amenities Feature:- `GarageArea`,`WoodDeckSF`,`PoolArea`,`PorchArea`\n"
   ]
  },
  {
   "cell_type": "code",
   "execution_count": null,
   "metadata": {
    "colab": {
     "base_uri": "https://localhost:8080/"
    },
    "id": "3tat290sx6en",
    "outputId": "031d9358-523b-42f3-98bb-1c8c2e920096"
   },
   "outputs": [],
   "source": [
    "#Changing Column Datatypes to Float for Weight-wise Room addition\n",
    "Data = Data.astype({'BsmtFullBath':'float','BsmtHalfBath':'float','FullBath':'float','HalfBath':'float','BedroomAbvGr':'float'})\n",
    "print(Data.dtypes)"
   ]
  },
  {
   "cell_type": "code",
   "execution_count": null,
   "metadata": {
    "colab": {
     "base_uri": "https://localhost:8080/",
     "height": 206
    },
    "id": "nBdPvV6d0S56",
    "outputId": "64592d87-964e-408f-f934-1fcb5b572d2f"
   },
   "outputs": [],
   "source": [
    "#Creating Feature:- Rooms\n",
    "Data['BsmtHalfBath'] = Data['BsmtHalfBath']*0.5\n",
    "Data['HalfBath'] = Data ['HalfBath']*0.5\n",
    "Data.head()"
   ]
  },
  {
   "cell_type": "code",
   "execution_count": null,
   "metadata": {
    "colab": {
     "base_uri": "https://localhost:8080/",
     "height": 206
    },
    "id": "MSP7a61V1i7e",
    "outputId": "6e2953a7-f9c2-4759-9ab2-d82b5627e810"
   },
   "outputs": [],
   "source": [
    "Data['Rooms']= Data[['BsmtFullBath','BsmtHalfBath','FullBath','HalfBath','BedroomAbvGr']].sum(axis=1)\n",
    "Data.drop(['BsmtFullBath','BsmtHalfBath','FullBath','HalfBath','BedroomAbvGr'],axis=1, inplace=True)\n",
    "Data.head()"
   ]
  },
  {
   "cell_type": "code",
   "execution_count": null,
   "metadata": {
    "id": "uqgMjxCU2POA"
   },
   "outputs": [],
   "source": [
    "#Creating Feature:- Amenities\n",
    "Data['Amenities']= Data[['GarageArea','WoodDeckSF','PoolArea','PorchArea']].sum(axis=1)\n",
    "Data.drop(['GarageArea','WoodDeckSF','PoolArea','PorchArea'],axis=1, inplace=True)"
   ]
  },
  {
   "cell_type": "code",
   "execution_count": null,
   "metadata": {
    "colab": {
     "base_uri": "https://localhost:8080/",
     "height": 206
    },
    "id": "zrun1aFI3Id2",
    "outputId": "9b8e1809-aea6-4b71-d35a-4cd52849184c"
   },
   "outputs": [],
   "source": [
    "Data.head()"
   ]
  },
  {
   "cell_type": "code",
   "execution_count": null,
   "metadata": {
    "colab": {
     "base_uri": "https://localhost:8080/",
     "height": 206
    },
    "id": "nqQHWluv3U6i",
    "outputId": "14a12cef-ec9d-4640-e7b5-5bf2c00a942e"
   },
   "outputs": [],
   "source": [
    "#Reordering the Columns\n",
    "Data= Data.iloc[:, [0,2,4,3,1]]\n",
    "Data.head()"
   ]
  },
  {
   "cell_type": "code",
   "execution_count": null,
   "metadata": {
    "colab": {
     "base_uri": "https://localhost:8080/"
    },
    "id": "dFaNjb0R5POY",
    "outputId": "a7d4afe4-6cca-4acb-eb6a-217e6c109da5"
   },
   "outputs": [],
   "source": [
    "#Checking Null Values Again\n",
    "[np.count_nonzero(Data[x]) for x in Data.columns]"
   ]
  },
  {
   "cell_type": "markdown",
   "metadata": {
    "id": "JGnQrBpu5So3"
   },
   "source": [
    "Analysis of Null Values:- Null Values have been Sufficiently Handled."
   ]
  }
 ],
 "metadata": {
  "colab": {
   "provenance": []
  },
  "kernelspec": {
   "display_name": "Python 3",
   "language": "python",
   "name": "python3"
  },
  "language_info": {
   "name": "python",
   "version": "3.12.8"
  }
 },
 "nbformat": 4,
 "nbformat_minor": 0
}
